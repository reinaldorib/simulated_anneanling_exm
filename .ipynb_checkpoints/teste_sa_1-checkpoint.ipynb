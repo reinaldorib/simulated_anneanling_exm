{
 "cells": [
  {
   "cell_type": "code",
   "execution_count": 3,
   "metadata": {},
   "outputs": [],
   "source": [
    "%matplotlib inline\n",
    "import numpy as np \n",
    "import matplotlib.pyplot as plt\n",
    "plt.rcParams['figure.figsize'] = (15,5)"
   ]
  },
  {
   "cell_type": "code",
   "execution_count": 4,
   "metadata": {},
   "outputs": [],
   "source": [
    "def funcao(x):\n",
    "    y = ((x**2) + x - 1 )\n",
    "    \n",
    "    return y\n",
    "    #if x < -1 or x >1:\n",
    "    #    y = 0\n",
    "    #else:\n",
    "    #    y = (np.cos(50*x) + np.sin(20*x))\n",
    "    #return y    \n",
    "    #\n",
    "    #"
   ]
  },
  {
   "cell_type": "code",
   "execution_count": 5,
   "metadata": {},
   "outputs": [],
   "source": [
    "hv = np.vectorize(funcao)"
   ]
  },
  {
   "cell_type": "code",
   "execution_count": 6,
   "metadata": {},
   "outputs": [],
   "source": [
    "def simulated_annealing(espaco_de_busca, temperatura, funcao):\n",
    "    ponto_inicial = np.random.choice(espaco_de_busca)\n",
    "    solucao_inicial = funcao(ponto_inicial)\n",
    "    print(\"ponto inicial:\",ponto_inicial,\"solucao inicial:\",solucao_inicial)\n",
    "    #temperatura = 10\n",
    "    history = [ponto_inicial]\n",
    "    temperatura_hist = [temperatura]\n",
    "    temperatura_final = 1\n",
    "    #fator_reducao = 0.1\n",
    "    while temperatura > temperatura_final:\n",
    "        for i in range(100):\n",
    "            #print(\"==========================================================\")\n",
    "            novo_ponto = np.random.choice(espaco_de_busca)\n",
    "            nova_solucao = funcao(novo_ponto)\n",
    "            #print(\"novo ponto:\",novo_ponto,\"nova solucao:\", nova_solucao)\n",
    "            #print(\"solucao atual:\",solucao_inicial)\n",
    "            #print(\"nova solucao:\", nova_solucao)\n",
    "            #print(\"delta\",nova_solucao-solucao_inicial)\n",
    "            probabilidade = np.random.normal()\n",
    "            if (nova_solucao-solucao_inicial) < 0 or probabilidade < np.log(-(nova_solucao-solucao_inicial)/temperatura):\n",
    "                solucao_inicial = nova_solucao\n",
    "            #else:\n",
    "            #    \n",
    "            #    if probabilidade < np.log(-(nova_solucao-solucao_inicial)/temperatura):\n",
    "            #        print(\"probabilidade aceita:\", probabilidade)\n",
    "            #        solucao_inicial = nova_solucao\n",
    "            temperatura_hist.append(temperatura)\n",
    "            history.append(solucao_inicial)\n",
    "            #print(\"nova solucao:\", nova_solucao)\n",
    "        temperatura = temperatura-1\n",
    "        print(\"solucao \",solucao_inicial,\" na temperatura \", temperatura)\n",
    "        \n",
    "        \n",
    "        #print(\"==========================================================\")\n",
    "    print(\"solucao:\",solucao_inicial)\n",
    "        \n",
    "    return solucao_inicial, history, temperatura_hist\n",
    "        \n",
    "        "
   ]
  },
  {
   "cell_type": "code",
   "execution_count": 7,
   "metadata": {},
   "outputs": [
    {
     "name": "stdout",
     "output_type": "stream",
     "text": [
      "ponto inicial: 1.8918918918918912 solucao inicial: 4.47114682249817\n",
      "solucao  -1.241973705437169  na temperatura  99\n",
      "solucao  -1.241973705437169  na temperatura  98\n",
      "solucao  -1.241973705437169  na temperatura  97\n",
      "solucao  -1.2451600749899048  na temperatura  96\n",
      "solucao  -1.2499095692288886  na temperatura  95\n",
      "solucao  -1.2499095692288886  na temperatura  94\n",
      "solucao  -1.2499095692288886  na temperatura  93\n",
      "solucao  -1.2499095692288886  na temperatura  92\n",
      "solucao  -1.2499095692288886  na temperatura  91\n",
      "solucao  -1.2499095692288886  na temperatura  90\n",
      "solucao  -1.2499095692288886  na temperatura  89\n",
      "solucao  -1.2499095692288886  na temperatura  88\n",
      "solucao  -1.2499095692288886  na temperatura  87\n",
      "solucao  -1.2499095692288886  na temperatura  86\n",
      "solucao  -1.2499095692288886  na temperatura  85\n",
      "solucao  -1.2499095692288886  na temperatura  84\n",
      "solucao  -1.2499095692288886  na temperatura  83\n",
      "solucao  -1.2499095692288886  na temperatura  82\n",
      "solucao  -1.2499095692288886  na temperatura  81\n",
      "solucao  -1.2499095692288886  na temperatura  80\n",
      "solucao  -1.2499095692288886  na temperatura  79\n",
      "solucao  -1.2499095692288886  na temperatura  78\n",
      "solucao  -1.2499095692288886  na temperatura  77\n",
      "solucao  -1.2499095692288886  na temperatura  76\n",
      "solucao  -1.2499095692288886  na temperatura  75\n",
      "solucao  -1.2499095692288886  na temperatura  74\n",
      "solucao  -1.2499095692288886  na temperatura  73\n",
      "solucao  -1.2499095692288886  na temperatura  72\n",
      "solucao  -1.2499095692288886  na temperatura  71\n",
      "solucao  -1.2499095692288886  na temperatura  70\n",
      "solucao  -1.2499095692288886  na temperatura  69\n",
      "solucao  -1.2499095692288886  na temperatura  68\n",
      "solucao  -1.2499095692288886  na temperatura  67\n",
      "solucao  -1.2499095692288886  na temperatura  66\n",
      "solucao  -1.2499095692288886  na temperatura  65\n",
      "solucao  -1.2499095692288886  na temperatura  64\n",
      "solucao  -1.2499095692288886  na temperatura  63\n",
      "solucao  -1.2499095692288886  na temperatura  62\n",
      "solucao  -1.2499095692288886  na temperatura  61\n",
      "solucao  -1.2499095692288886  na temperatura  60\n",
      "solucao  -1.2499095692288886  na temperatura  59\n",
      "solucao  -1.2499095692288886  na temperatura  58\n",
      "solucao  -1.2499095692288886  na temperatura  57\n",
      "solucao  -1.2499095692288886  na temperatura  56\n",
      "solucao  -1.2499095692288886  na temperatura  55\n",
      "solucao "
     ]
    },
    {
     "name": "stderr",
     "output_type": "stream",
     "text": [
      "/home/reinaldo/anaconda3/lib/python3.7/site-packages/ipykernel_launcher.py:20: RuntimeWarning: invalid value encountered in log\n",
      "/home/reinaldo/anaconda3/lib/python3.7/site-packages/ipykernel_launcher.py:20: RuntimeWarning: divide by zero encountered in log\n"
     ]
    },
    {
     "name": "stdout",
     "output_type": "stream",
     "text": [
      " -1.2499095692288886  na temperatura  54\n",
      "solucao  -1.2499095692288886  na temperatura  53\n",
      "solucao  -1.2499095692288886  na temperatura  52\n",
      "solucao  -1.2499095692288886  na temperatura  51\n",
      "solucao  -1.2499095692288886  na temperatura  50\n",
      "solucao  -1.2499095692288886  na temperatura  49\n",
      "solucao  -1.2499095692288886  na temperatura  48\n",
      "solucao  -1.2499095692288886  na temperatura  47\n",
      "solucao  -1.2499095692288886  na temperatura  46\n",
      "solucao  -1.2499095692288886  na temperatura  45\n",
      "solucao  -1.2499095692288886  na temperatura  44\n",
      "solucao  -1.2499095692288886  na temperatura  43\n",
      "solucao  -1.2499095692288886  na temperatura  42\n",
      "solucao  -1.2499095692288886  na temperatura  41\n",
      "solucao  -1.2499095692288886  na temperatura  40\n",
      "solucao  -1.2499095692288886  na temperatura  39\n",
      "solucao  -1.2499095692288886  na temperatura  38\n",
      "solucao  -1.2499095692288886  na temperatura  37\n",
      "solucao  -1.2499095692288886  na temperatura  36\n",
      "solucao  -1.2499095692288886  na temperatura  35\n",
      "solucao  -1.2499095692288886  na temperatura  34\n",
      "solucao  -1.2499095692288886  na temperatura  33\n",
      "solucao  -1.2499095692288886  na temperatura  32\n",
      "solucao  -1.2499095692288886  na temperatura  31\n",
      "solucao  -1.2499095692288886  na temperatura  30\n",
      "solucao  -1.2499095692288886  na temperatura  29\n",
      "solucao  -1.2499095692288886  na temperatura  28\n",
      "solucao  -1.2499095692288886  na temperatura  27\n",
      "solucao  -1.2499095692288886  na temperatura  26\n",
      "solucao  -1.2499095692288886  na temperatura  25\n",
      "solucao  -1.2499095692288886  na temperatura  24\n",
      "solucao  -1.2499095692288886  na temperatura  23\n",
      "solucao  -1.2499095692288886  na temperatura  22\n",
      "solucao  -1.2499095692288886  na temperatura  21\n",
      "solucao  -1.2499095692288886  na temperatura  20\n",
      "solucao  -1.2499095692288886  na temperatura  19\n",
      "solucao  -1.2499095692288886  na temperatura  18\n",
      "solucao  -1.2499095692288886  na temperatura  17\n",
      "solucao  -1.2499095692288886  na temperatura  16\n",
      "solucao  -1.2499095692288886  na temperatura  15\n",
      "solucao  -1.2499095692288886  na temperatura  14\n",
      "solucao  -1.2499095692288886  na temperatura  13\n",
      "solucao  -1.2499095692288886  na temperatura  12\n",
      "solucao  -1.2499095692288886  na temperatura  11\n",
      "solucao  -1.2499095692288886  na temperatura  10\n",
      "solucao  -1.2499095692288886  na temperatura  9\n",
      "solucao  -1.2499095692288886  na temperatura  8\n",
      "solucao  -1.2499095692288886  na temperatura  7\n",
      "solucao  -1.2499095692288886  na temperatura  6\n",
      "solucao  -1.2499095692288886  na temperatura  5\n",
      "solucao  -1.2499095692288886  na temperatura  4\n",
      "solucao  -1.2499095692288886  na temperatura  3\n",
      "solucao  -1.2499095692288886  na temperatura  2\n",
      "solucao  -1.2499095692288886  na temperatura  1\n",
      "solucao: -1.2499095692288886\n"
     ]
    },
    {
     "data": {
      "text/plain": [
       "[<matplotlib.lines.Line2D at 0x7fee946e11d0>]"
      ]
     },
     "execution_count": 7,
     "metadata": {},
     "output_type": "execute_result"
    },
    {
     "data": {
      "image/png": "[encoded data removed]",
      "text/plain": [
       "<Figure size 1080x360 with 1 Axes>"
      ]
     },
     "metadata": {
      "needs_background": "light"
     },
     "output_type": "display_data"
    }
   ],
   "source": [
    "espaco_de_busca = np.linspace(-10, 10, 1000)\n",
    "#plt.plot(X, hv(X))\n",
    "temperatura = 100\n",
    "#espaco_de_busca = np.linspace(0,2, num = 1000)\n",
    "x, history, temperatura_hist = simulated_annealing(espaco_de_busca,temperatura, funcao)\n",
    "plt.plot(espaco_de_busca, hv(espaco_de_busca))\n",
    "plt.plot(history, hv(history))\n",
    "#plt.plot(history, history)\n",
    "#plt.plot( temperatura_hist)"
   ]
  },
  {
   "cell_type": "code",
   "execution_count": null,
   "metadata": {},
   "outputs": [],
   "source": []
  },
  {
   "cell_type": "code",
   "execution_count": null,
   "metadata": {},
   "outputs": [],
   "source": []
  }
 ],
 "metadata": {
  "kernelspec": {
   "display_name": "Python 3",
   "language": "python",
   "name": "python3"
  },
  "language_info": {
   "codemirror_mode": {
    "name": "ipython",
    "version": 3
   },
   "file_extension": ".py",
   "mimetype": "text/x-python",
   "name": "python",
   "nbconvert_exporter": "python",
   "pygments_lexer": "ipython3",
   "version": "3.7.7"
  }
 },
 "nbformat": 4,
 "nbformat_minor": 4
}
